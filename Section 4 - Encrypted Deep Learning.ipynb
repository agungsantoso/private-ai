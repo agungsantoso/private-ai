{
  "nbformat": 4,
  "nbformat_minor": 0,
  "metadata": {
    "kernelspec": {
      "display_name": "Python 3",
      "language": "python",
      "name": "python3"
    },
    "language_info": {
      "codemirror_mode": {
        "name": "ipython",
        "version": 3
      },
      "file_extension": ".py",
      "mimetype": "text/x-python",
      "name": "python",
      "nbconvert_exporter": "python",
      "pygments_lexer": "ipython3",
      "version": "3.6.1"
    },
    "colab": {
      "name": "Section 4 - Encrypted Deep Learning.ipynb",
      "version": "0.3.2",
      "provenance": [],
      "include_colab_link": true
    }
  },
  "cells": [
    {
      "cell_type": "markdown",
      "metadata": {
        "id": "view-in-github",
        "colab_type": "text"
      },
      "source": [
        "<a href=\"https://colab.research.google.com/github/agungsantoso/private-ai/blob/master/Section%204%20-%20Encrypted%20Deep%20Learning.ipynb\" target=\"_parent\"><img src=\"https://colab.research.google.com/assets/colab-badge.svg\" alt=\"Open In Colab\"/></a>"
      ]
    },
    {
      "cell_type": "markdown",
      "metadata": {
        "id": "vmnIihtINPpo",
        "colab_type": "text"
      },
      "source": [
        "# Section: Encrypted Deep Learning\n",
        "\n",
        "- Lesson: Reviewing Additive Secret Sharing\n",
        "- Lesson: Encrypted Subtraction and Public/Scalar Multiplication\n",
        "- Lesson: Encrypted Computation in PySyft\n",
        "- Project: Build an Encrypted Database\n",
        "- Lesson: Encrypted Deep Learning in PyTorch\n",
        "- Lesson: Encrypted Deep Learning in Keras\n",
        "- Final Project"
      ]
    },
    {
      "cell_type": "markdown",
      "metadata": {
        "id": "psVkp3OUNPpq",
        "colab_type": "text"
      },
      "source": [
        "# Lesson: Reviewing Additive Secret Sharing\n",
        "\n",
        "_For more great information about SMPC protocols like this one, visit https://mortendahl.github.io. With permission, Morten's work directly inspired this first teaching segment._"
      ]
    },
    {
      "cell_type": "code",
      "metadata": {
        "id": "ymbtmFQhNPpr",
        "colab_type": "code",
        "colab": {}
      },
      "source": [
        "import random\n",
        "import numpy as np\n",
        "\n",
        "BASE = 10\n",
        "\n",
        "PRECISION_INTEGRAL = 8\n",
        "PRECISION_FRACTIONAL = 8\n",
        "Q = 293973345475167247070445277780365744413\n",
        "\n",
        "PRECISION = PRECISION_INTEGRAL + PRECISION_FRACTIONAL\n",
        "\n",
        "assert(Q > BASE**PRECISION)\n",
        "\n",
        "def encode(rational):\n",
        "    upscaled = int(rational * BASE**PRECISION_FRACTIONAL)\n",
        "    field_element = upscaled % Q\n",
        "    return field_element\n",
        "\n",
        "def decode(field_element):\n",
        "    upscaled = field_element if field_element <= Q/2 else field_element - Q\n",
        "    rational = upscaled / BASE**PRECISION_FRACTIONAL\n",
        "    return rational\n",
        "\n",
        "def encrypt(secret):\n",
        "    first  = random.randrange(Q)\n",
        "    second = random.randrange(Q)\n",
        "    third  = (secret - first - second) % Q\n",
        "    return [first, second, third]\n",
        "\n",
        "def decrypt(sharing):\n",
        "    return sum(sharing) % Q\n",
        "\n",
        "def add(a, b):\n",
        "    c = list()\n",
        "    for i in range(len(a)):\n",
        "        c.append((a[i] + b[i]) % Q)\n",
        "    return tuple(c)"
      ],
      "execution_count": 0,
      "outputs": []
    },
    {
      "cell_type": "code",
      "metadata": {
        "id": "gpDHLc_VNPpv",
        "colab_type": "code",
        "outputId": "18ce6f26-e9d7-4ff0-c02d-e12518f9dc05",
        "colab": {
          "base_uri": "https://localhost:8080/",
          "height": 70
        }
      },
      "source": [
        "x = encrypt(encode(5.5))\n",
        "x"
      ],
      "execution_count": 2,
      "outputs": [
        {
          "output_type": "execute_result",
          "data": {
            "text/plain": [
              "[91052528671669719478401144831586208269,\n",
              " 144368079325840172453989245199218877660,\n",
              " 58552737477657355138054887750110658484]"
            ]
          },
          "metadata": {
            "tags": []
          },
          "execution_count": 2
        }
      ]
    },
    {
      "cell_type": "code",
      "metadata": {
        "id": "1oV7mAlgNPpz",
        "colab_type": "code",
        "outputId": "96500d69-59c7-4279-94cc-c9e251aa0def",
        "colab": {
          "base_uri": "https://localhost:8080/",
          "height": 70
        }
      },
      "source": [
        "y = encrypt(encode(2.3))\n",
        "y"
      ],
      "execution_count": 3,
      "outputs": [
        {
          "output_type": "execute_result",
          "data": {
            "text/plain": [
              "[289449401784057095819267809094949694373,\n",
              " 8043900600865298731582877886135559874,\n",
              " 290453388565412099590039868579876234578]"
            ]
          },
          "metadata": {
            "tags": []
          },
          "execution_count": 3
        }
      ]
    },
    {
      "cell_type": "code",
      "metadata": {
        "id": "wyfxC8oLNPp2",
        "colab_type": "code",
        "outputId": "3a80598f-5888-4770-bb61-a2f0a0c94eae",
        "colab": {
          "base_uri": "https://localhost:8080/",
          "height": 70
        }
      },
      "source": [
        "z = add(x,y)\n",
        "z"
      ],
      "execution_count": 4,
      "outputs": [
        {
          "output_type": "execute_result",
          "data": {
            "text/plain": [
              "(86528584980559568227223676146170158229,\n",
              " 152411979926705471185572123085354437534,\n",
              " 55032780567902207657649478549621148649)"
            ]
          },
          "metadata": {
            "tags": []
          },
          "execution_count": 4
        }
      ]
    },
    {
      "cell_type": "code",
      "metadata": {
        "id": "UK5-DTzqNPp5",
        "colab_type": "code",
        "outputId": "b4e7aeeb-089b-49d5-e78f-28e21b978a25",
        "colab": {
          "base_uri": "https://localhost:8080/",
          "height": 34
        }
      },
      "source": [
        "decode(decrypt(z))"
      ],
      "execution_count": 5,
      "outputs": [
        {
          "output_type": "execute_result",
          "data": {
            "text/plain": [
              "7.79999999"
            ]
          },
          "metadata": {
            "tags": []
          },
          "execution_count": 5
        }
      ]
    },
    {
      "cell_type": "markdown",
      "metadata": {
        "id": "elQlTRX_NPp7",
        "colab_type": "text"
      },
      "source": [
        "# Lesson: Encrypted Subtraction and Public/Scalar Multiplication"
      ]
    },
    {
      "cell_type": "code",
      "metadata": {
        "id": "rh9edzC7NPp_",
        "colab_type": "code",
        "colab": {}
      },
      "source": [
        "field = 23740629843760239486723"
      ],
      "execution_count": 0,
      "outputs": []
    },
    {
      "cell_type": "code",
      "metadata": {
        "id": "LCxvPSDbNPqB",
        "colab_type": "code",
        "colab": {}
      },
      "source": [
        "x = 5\n",
        "\n",
        "bob_x_share = 2372385723 # random number\n",
        "alices_x_share = field - bob_x_share + x"
      ],
      "execution_count": 0,
      "outputs": []
    },
    {
      "cell_type": "code",
      "metadata": {
        "id": "AHutiHqmNPqE",
        "colab_type": "code",
        "outputId": "7f688f9f-eaf4-438c-e073-6f0d636702ac",
        "colab": {
          "base_uri": "https://localhost:8080/",
          "height": 34
        }
      },
      "source": [
        "(bob_x_share + alices_x_share) % field"
      ],
      "execution_count": 8,
      "outputs": [
        {
          "output_type": "execute_result",
          "data": {
            "text/plain": [
              "5"
            ]
          },
          "metadata": {
            "tags": []
          },
          "execution_count": 8
        }
      ]
    },
    {
      "cell_type": "code",
      "metadata": {
        "id": "1rqLNDdbNPqH",
        "colab_type": "code",
        "colab": {}
      },
      "source": [
        "field = 10\n",
        "\n",
        "x = 5\n",
        "\n",
        "bob_x_share = 8\n",
        "alice_x_share = field - bob_x_share + x\n",
        "\n",
        "y = 1\n",
        "\n",
        "bob_y_share = 9\n",
        "alice_y_share = field - bob_y_share + y"
      ],
      "execution_count": 0,
      "outputs": []
    },
    {
      "cell_type": "code",
      "metadata": {
        "id": "41Iu1ltkNPqL",
        "colab_type": "code",
        "outputId": "fc9339f7-e7ec-48fc-b320-4268b34cb6c6",
        "colab": {
          "base_uri": "https://localhost:8080/",
          "height": 34
        }
      },
      "source": [
        "((bob_x_share + alice_x_share) - (bob_y_share + alice_y_share)) % field"
      ],
      "execution_count": 10,
      "outputs": [
        {
          "output_type": "execute_result",
          "data": {
            "text/plain": [
              "4"
            ]
          },
          "metadata": {
            "tags": []
          },
          "execution_count": 10
        }
      ]
    },
    {
      "cell_type": "code",
      "metadata": {
        "id": "4jEH4LrTNPqO",
        "colab_type": "code",
        "outputId": "feb1b84a-3062-43fe-e7a9-76728a337b55",
        "colab": {
          "base_uri": "https://localhost:8080/",
          "height": 34
        }
      },
      "source": [
        "((bob_x_share - bob_y_share) + (alice_x_share - alice_y_share)) % field"
      ],
      "execution_count": 11,
      "outputs": [
        {
          "output_type": "execute_result",
          "data": {
            "text/plain": [
              "4"
            ]
          },
          "metadata": {
            "tags": []
          },
          "execution_count": 11
        }
      ]
    },
    {
      "cell_type": "code",
      "metadata": {
        "id": "eVOLw6U0NPqR",
        "colab_type": "code",
        "outputId": "ca0d93c9-4ce8-4ae3-b027-1c3a4ba932be",
        "colab": {
          "base_uri": "https://localhost:8080/",
          "height": 34
        }
      },
      "source": [
        "bob_x_share + alice_x_share + bob_y_share + alice_y_share"
      ],
      "execution_count": 12,
      "outputs": [
        {
          "output_type": "execute_result",
          "data": {
            "text/plain": [
              "26"
            ]
          },
          "metadata": {
            "tags": []
          },
          "execution_count": 12
        }
      ]
    },
    {
      "cell_type": "code",
      "metadata": {
        "id": "9ScJJjfCNPqU",
        "colab_type": "code",
        "colab": {}
      },
      "source": [
        "bob_z_share = (bob_x_share - bob_y_share)\n",
        "alice_z_share = (alice_x_share - alice_y_share)"
      ],
      "execution_count": 0,
      "outputs": []
    },
    {
      "cell_type": "code",
      "metadata": {
        "id": "sVoOk_C_NPqW",
        "colab_type": "code",
        "outputId": "260de5df-36b0-4b78-ae49-c3dc14e2daaa",
        "colab": {
          "base_uri": "https://localhost:8080/",
          "height": 34
        }
      },
      "source": [
        "(bob_z_share + alice_z_share) % field"
      ],
      "execution_count": 14,
      "outputs": [
        {
          "output_type": "execute_result",
          "data": {
            "text/plain": [
              "4"
            ]
          },
          "metadata": {
            "tags": []
          },
          "execution_count": 14
        }
      ]
    },
    {
      "cell_type": "code",
      "metadata": {
        "id": "-cdOiRRINPqZ",
        "colab_type": "code",
        "colab": {}
      },
      "source": [
        "def sub(a, b):\n",
        "    c = list()\n",
        "    for i in range(len(a)):\n",
        "        c.append((a[i] - b[i]) % Q)\n",
        "    return tuple(c)"
      ],
      "execution_count": 0,
      "outputs": []
    },
    {
      "cell_type": "code",
      "metadata": {
        "id": "QWZbFZhpNPqb",
        "colab_type": "code",
        "colab": {}
      },
      "source": [
        "field = 10\n",
        "\n",
        "x = 5\n",
        "\n",
        "bob_x_share = 8\n",
        "alice_x_share = field - bob_x_share + x\n",
        "\n",
        "y = 1\n",
        "\n",
        "bob_y_share = 9\n",
        "alice_y_share = field - bob_y_share + y"
      ],
      "execution_count": 0,
      "outputs": []
    },
    {
      "cell_type": "code",
      "metadata": {
        "id": "y3pwcz4tNPqe",
        "colab_type": "code",
        "outputId": "4b6f2732-271d-4239-91d6-9850e67bdd64",
        "colab": {
          "base_uri": "https://localhost:8080/",
          "height": 34
        }
      },
      "source": [
        "bob_x_share + alice_x_share"
      ],
      "execution_count": 17,
      "outputs": [
        {
          "output_type": "execute_result",
          "data": {
            "text/plain": [
              "15"
            ]
          },
          "metadata": {
            "tags": []
          },
          "execution_count": 17
        }
      ]
    },
    {
      "cell_type": "code",
      "metadata": {
        "id": "tbdzKXGdNPqg",
        "colab_type": "code",
        "outputId": "aaad24d8-50de-47ac-c1a0-8eaf5172638a",
        "colab": {
          "base_uri": "https://localhost:8080/",
          "height": 34
        }
      },
      "source": [
        "bob_y_share + alice_y_share"
      ],
      "execution_count": 18,
      "outputs": [
        {
          "output_type": "execute_result",
          "data": {
            "text/plain": [
              "11"
            ]
          },
          "metadata": {
            "tags": []
          },
          "execution_count": 18
        }
      ]
    },
    {
      "cell_type": "code",
      "metadata": {
        "id": "iz_ZvP5nNPqn",
        "colab_type": "code",
        "outputId": "83acce96-4f58-46fd-e347-be11e6b544af",
        "colab": {
          "base_uri": "https://localhost:8080/",
          "height": 34
        }
      },
      "source": [
        "((bob_y_share * 3) + (alice_y_share * 3)) % field"
      ],
      "execution_count": 19,
      "outputs": [
        {
          "output_type": "execute_result",
          "data": {
            "text/plain": [
              "3"
            ]
          },
          "metadata": {
            "tags": []
          },
          "execution_count": 19
        }
      ]
    },
    {
      "cell_type": "code",
      "metadata": {
        "id": "lG9mqX1nNPqq",
        "colab_type": "code",
        "colab": {}
      },
      "source": [
        "def imul(a, scalar):\n",
        "    \n",
        "    # logic here which can multiply by a public scalar\n",
        "    \n",
        "    c = list()\n",
        "    \n",
        "    for i in range(len(a)):\n",
        "        c.append((a[i] * scalar) % Q)\n",
        "        \n",
        "    return tuple(c)"
      ],
      "execution_count": 0,
      "outputs": []
    },
    {
      "cell_type": "code",
      "metadata": {
        "id": "54KQ75qCNPqu",
        "colab_type": "code",
        "outputId": "612a36e5-06ce-4952-d186-3e768f894f40",
        "colab": {
          "base_uri": "https://localhost:8080/",
          "height": 70
        }
      },
      "source": [
        "x = encrypt(encode(5.5))\n",
        "x"
      ],
      "execution_count": 21,
      "outputs": [
        {
          "output_type": "execute_result",
          "data": {
            "text/plain": [
              "[17939854851423154361239901102234899931,\n",
              " 190618295156136042135000051899345001217,\n",
              " 85415195467608050574205324779335843265]"
            ]
          },
          "metadata": {
            "tags": []
          },
          "execution_count": 21
        }
      ]
    },
    {
      "cell_type": "code",
      "metadata": {
        "id": "M8PE_HrQNPqw",
        "colab_type": "code",
        "colab": {}
      },
      "source": [
        "z = imul(x, 3)"
      ],
      "execution_count": 0,
      "outputs": []
    },
    {
      "cell_type": "code",
      "metadata": {
        "id": "mLjexxLBNPqz",
        "colab_type": "code",
        "outputId": "a81a56e4-65d4-428a-f198-19dd16e7d017",
        "colab": {
          "base_uri": "https://localhost:8080/",
          "height": 34
        }
      },
      "source": [
        "decode(decrypt(z))"
      ],
      "execution_count": 23,
      "outputs": [
        {
          "output_type": "execute_result",
          "data": {
            "text/plain": [
              "16.5"
            ]
          },
          "metadata": {
            "tags": []
          },
          "execution_count": 23
        }
      ]
    },
    {
      "cell_type": "markdown",
      "metadata": {
        "id": "HMGqfmHSNPq2",
        "colab_type": "text"
      },
      "source": [
        "# Lesson: Encrypted Computation in PySyft"
      ]
    },
    {
      "cell_type": "code",
      "metadata": {
        "id": "zANzsDLsQ9Xb",
        "colab_type": "code",
        "outputId": "2a1a454c-0869-4122-f16b-7342cbc96491",
        "colab": {
          "base_uri": "https://localhost:8080/",
          "height": 1000
        }
      },
      "source": [
        "!pip install syft"
      ],
      "execution_count": 24,
      "outputs": [
        {
          "output_type": "stream",
          "text": [
            "Collecting syft\n",
            "\u001b[?25l  Downloading https://files.pythonhosted.org/packages/38/2e/16bdefc78eb089e1efa9704c33b8f76f035a30dc935bedd7cbb22f6dabaa/syft-0.1.21a1-py3-none-any.whl (219kB)\n",
            "\u001b[K     |████████████████████████████████| 225kB 4.9MB/s \n",
            "\u001b[?25hCollecting flask-socketio>=3.3.2 (from syft)\n",
            "  Downloading https://files.pythonhosted.org/packages/33/31/f779e69e59f528684d8c9925b3c82a9303d148655d9671ba2975ab8c3894/Flask_SocketIO-4.2.0-py2.py3-none-any.whl\n",
            "Collecting websockets>=7.0 (from syft)\n",
            "\u001b[?25l  Downloading https://files.pythonhosted.org/packages/f0/4b/ad228451b1c071c5c52616b7d4298ebcfcac5ae8515ede959db19e4cd56d/websockets-8.0.2-cp36-cp36m-manylinux1_x86_64.whl (72kB)\n",
            "\u001b[K     |████████████████████████████████| 81kB 26.3MB/s \n",
            "\u001b[?25hRequirement already satisfied: Flask>=1.0.2 in /usr/local/lib/python3.6/dist-packages (from syft) (1.1.1)\n",
            "Requirement already satisfied: numpy>=1.14.0 in /usr/local/lib/python3.6/dist-packages (from syft) (1.16.4)\n",
            "Requirement already satisfied: torchvision>=0.3.0 in /usr/local/lib/python3.6/dist-packages (from syft) (0.3.0)\n",
            "Collecting lz4>=2.1.6 (from syft)\n",
            "\u001b[?25l  Downloading https://files.pythonhosted.org/packages/0a/c6/96bbb3525a63ebc53ea700cc7d37ab9045542d33b4d262d0f0408ad9bbf2/lz4-2.1.10-cp36-cp36m-manylinux1_x86_64.whl (385kB)\n",
            "\u001b[K     |████████████████████████████████| 389kB 46.9MB/s \n",
            "\u001b[?25hRequirement already satisfied: torch>=1.1 in /usr/local/lib/python3.6/dist-packages (from syft) (1.1.0)\n",
            "Requirement already satisfied: tblib>=1.4.0 in /usr/local/lib/python3.6/dist-packages (from syft) (1.4.0)\n",
            "Collecting tf-encrypted>=0.5.4 (from syft)\n",
            "\u001b[?25l  Downloading https://files.pythonhosted.org/packages/55/ff/7dbd5fc77fcec0df1798268a6b72a2ab0150b854761bc39c77d566798f0b/tf_encrypted-0.5.7-py3-none-manylinux1_x86_64.whl (2.1MB)\n",
            "\u001b[K     |████████████████████████████████| 2.1MB 46.5MB/s \n",
            "\u001b[?25hCollecting websocket-client>=0.56.0 (from syft)\n",
            "\u001b[?25l  Downloading https://files.pythonhosted.org/packages/29/19/44753eab1fdb50770ac69605527e8859468f3c0fd7dc5a76dd9c4dbd7906/websocket_client-0.56.0-py2.py3-none-any.whl (200kB)\n",
            "\u001b[K     |████████████████████████████████| 204kB 48.3MB/s \n",
            "\u001b[?25hCollecting zstd>=1.4.0.0 (from syft)\n",
            "\u001b[?25l  Downloading https://files.pythonhosted.org/packages/22/37/6a7ba746ebddbd6cd06de84367515d6bc239acd94fb3e0b1c85788176ca2/zstd-1.4.1.0.tar.gz (454kB)\n",
            "\u001b[K     |████████████████████████████████| 460kB 44.9MB/s \n",
            "\u001b[?25hCollecting msgpack>=0.6.1 (from syft)\n",
            "\u001b[?25l  Downloading https://files.pythonhosted.org/packages/92/7e/ae9e91c1bb8d846efafd1f353476e3fd7309778b582d2fb4cea4cc15b9a2/msgpack-0.6.1-cp36-cp36m-manylinux1_x86_64.whl (248kB)\n",
            "\u001b[K     |████████████████████████████████| 256kB 38.9MB/s \n",
            "\u001b[?25hRequirement already satisfied: scikit-learn>=0.21.0 in /usr/local/lib/python3.6/dist-packages (from syft) (0.21.2)\n",
            "Collecting python-socketio>=4.3.0 (from flask-socketio>=3.3.2->syft)\n",
            "\u001b[?25l  Downloading https://files.pythonhosted.org/packages/1c/5a/9429c1fbc399b6079725150a36491efd6bd4691c11110f5a57e8c991de96/python_socketio-4.3.0-py2.py3-none-any.whl (46kB)\n",
            "\u001b[K     |████████████████████████████████| 51kB 17.9MB/s \n",
            "\u001b[?25hRequirement already satisfied: itsdangerous>=0.24 in /usr/local/lib/python3.6/dist-packages (from Flask>=1.0.2->syft) (1.1.0)\n",
            "Requirement already satisfied: click>=5.1 in /usr/local/lib/python3.6/dist-packages (from Flask>=1.0.2->syft) (7.0)\n",
            "Requirement already satisfied: Jinja2>=2.10.1 in /usr/local/lib/python3.6/dist-packages (from Flask>=1.0.2->syft) (2.10.1)\n",
            "Requirement already satisfied: Werkzeug>=0.15 in /usr/local/lib/python3.6/dist-packages (from Flask>=1.0.2->syft) (0.15.5)\n",
            "Requirement already satisfied: six in /usr/local/lib/python3.6/dist-packages (from torchvision>=0.3.0->syft) (1.12.0)\n",
            "Requirement already satisfied: pillow>=4.1.1 in /usr/local/lib/python3.6/dist-packages (from torchvision>=0.3.0->syft) (4.3.0)\n",
            "Requirement already satisfied: tensorflow<2,>=1.12.0 in /usr/local/lib/python3.6/dist-packages (from tf-encrypted>=0.5.4->syft) (1.14.0)\n",
            "Collecting pyyaml>=5.1 (from tf-encrypted>=0.5.4->syft)\n",
            "\u001b[?25l  Downloading https://files.pythonhosted.org/packages/e3/e8/b3212641ee2718d556df0f23f78de8303f068fe29cdaa7a91018849582fe/PyYAML-5.1.2.tar.gz (265kB)\n",
            "\u001b[K     |████████████████████████████████| 266kB 45.9MB/s \n",
            "\u001b[?25hRequirement already satisfied: joblib>=0.11 in /usr/local/lib/python3.6/dist-packages (from scikit-learn>=0.21.0->syft) (0.13.2)\n",
            "Requirement already satisfied: scipy>=0.17.0 in /usr/local/lib/python3.6/dist-packages (from scikit-learn>=0.21.0->syft) (1.3.0)\n",
            "Collecting python-engineio>=3.9.0 (from python-socketio>=4.3.0->flask-socketio>=3.3.2->syft)\n",
            "\u001b[?25l  Downloading https://files.pythonhosted.org/packages/3d/96/b7c61073023569efa30b17ad9115aa4c0489df5b2bf81b896e80d8e2b573/python_engineio-3.9.0-py2.py3-none-any.whl (119kB)\n",
            "\u001b[K     |████████████████████████████████| 122kB 46.0MB/s \n",
            "\u001b[?25hRequirement already satisfied: MarkupSafe>=0.23 in /usr/local/lib/python3.6/dist-packages (from Jinja2>=2.10.1->Flask>=1.0.2->syft) (1.1.1)\n",
            "Requirement already satisfied: olefile in /usr/local/lib/python3.6/dist-packages (from pillow>=4.1.1->torchvision>=0.3.0->syft) (0.46)\n",
            "Requirement already satisfied: gast>=0.2.0 in /usr/local/lib/python3.6/dist-packages (from tensorflow<2,>=1.12.0->tf-encrypted>=0.5.4->syft) (0.2.2)\n",
            "Requirement already satisfied: absl-py>=0.7.0 in /usr/local/lib/python3.6/dist-packages (from tensorflow<2,>=1.12.0->tf-encrypted>=0.5.4->syft) (0.7.1)\n",
            "Requirement already satisfied: astor>=0.6.0 in /usr/local/lib/python3.6/dist-packages (from tensorflow<2,>=1.12.0->tf-encrypted>=0.5.4->syft) (0.8.0)\n",
            "Requirement already satisfied: protobuf>=3.6.1 in /usr/local/lib/python3.6/dist-packages (from tensorflow<2,>=1.12.0->tf-encrypted>=0.5.4->syft) (3.7.1)\n",
            "Requirement already satisfied: wheel>=0.26 in /usr/local/lib/python3.6/dist-packages (from tensorflow<2,>=1.12.0->tf-encrypted>=0.5.4->syft) (0.33.4)\n",
            "Requirement already satisfied: tensorboard<1.15.0,>=1.14.0 in /usr/local/lib/python3.6/dist-packages (from tensorflow<2,>=1.12.0->tf-encrypted>=0.5.4->syft) (1.14.0)\n",
            "Requirement already satisfied: keras-applications>=1.0.6 in /usr/local/lib/python3.6/dist-packages (from tensorflow<2,>=1.12.0->tf-encrypted>=0.5.4->syft) (1.0.8)\n",
            "Requirement already satisfied: google-pasta>=0.1.6 in /usr/local/lib/python3.6/dist-packages (from tensorflow<2,>=1.12.0->tf-encrypted>=0.5.4->syft) (0.1.7)\n",
            "Requirement already satisfied: termcolor>=1.1.0 in /usr/local/lib/python3.6/dist-packages (from tensorflow<2,>=1.12.0->tf-encrypted>=0.5.4->syft) (1.1.0)\n",
            "Requirement already satisfied: wrapt>=1.11.1 in /usr/local/lib/python3.6/dist-packages (from tensorflow<2,>=1.12.0->tf-encrypted>=0.5.4->syft) (1.11.2)\n",
            "Requirement already satisfied: tensorflow-estimator<1.15.0rc0,>=1.14.0rc0 in /usr/local/lib/python3.6/dist-packages (from tensorflow<2,>=1.12.0->tf-encrypted>=0.5.4->syft) (1.14.0)\n",
            "Requirement already satisfied: grpcio>=1.8.6 in /usr/local/lib/python3.6/dist-packages (from tensorflow<2,>=1.12.0->tf-encrypted>=0.5.4->syft) (1.15.0)\n",
            "Requirement already satisfied: keras-preprocessing>=1.0.5 in /usr/local/lib/python3.6/dist-packages (from tensorflow<2,>=1.12.0->tf-encrypted>=0.5.4->syft) (1.1.0)\n",
            "Requirement already satisfied: setuptools in /usr/local/lib/python3.6/dist-packages (from protobuf>=3.6.1->tensorflow<2,>=1.12.0->tf-encrypted>=0.5.4->syft) (41.0.1)\n",
            "Requirement already satisfied: markdown>=2.6.8 in /usr/local/lib/python3.6/dist-packages (from tensorboard<1.15.0,>=1.14.0->tensorflow<2,>=1.12.0->tf-encrypted>=0.5.4->syft) (3.1.1)\n",
            "Requirement already satisfied: h5py in /usr/local/lib/python3.6/dist-packages (from keras-applications>=1.0.6->tensorflow<2,>=1.12.0->tf-encrypted>=0.5.4->syft) (2.8.0)\n",
            "Building wheels for collected packages: zstd, pyyaml\n",
            "  Building wheel for zstd (setup.py) ... \u001b[?25l\u001b[?25hdone\n",
            "  Stored in directory: /root/.cache/pip/wheels/66/3f/ee/ac08c81af7c1b24a80c746df669ea3cb37542d27877d66ccf4\n",
            "  Building wheel for pyyaml (setup.py) ... \u001b[?25l\u001b[?25hdone\n",
            "  Stored in directory: /root/.cache/pip/wheels/d9/45/dd/65f0b38450c47cf7e5312883deb97d065e030c5cca0a365030\n",
            "Successfully built zstd pyyaml\n",
            "Installing collected packages: python-engineio, python-socketio, flask-socketio, websockets, lz4, pyyaml, tf-encrypted, websocket-client, zstd, msgpack, syft\n",
            "  Found existing installation: PyYAML 3.13\n",
            "    Uninstalling PyYAML-3.13:\n",
            "      Successfully uninstalled PyYAML-3.13\n",
            "  Found existing installation: msgpack 0.5.6\n",
            "    Uninstalling msgpack-0.5.6:\n",
            "      Successfully uninstalled msgpack-0.5.6\n",
            "Successfully installed flask-socketio-4.2.0 lz4-2.1.10 msgpack-0.6.1 python-engineio-3.9.0 python-socketio-4.3.0 pyyaml-5.1.2 syft-0.1.21a1 tf-encrypted-0.5.7 websocket-client-0.56.0 websockets-8.0.2 zstd-1.4.1.0\n"
          ],
          "name": "stdout"
        }
      ]
    },
    {
      "cell_type": "code",
      "metadata": {
        "id": "YmXslvqtNPq2",
        "colab_type": "code",
        "outputId": "d42d3c90-3b8a-4670-a149-9bbedb578610",
        "colab": {
          "base_uri": "https://localhost:8080/",
          "height": 107
        }
      },
      "source": [
        "import syft as sy\n",
        "import torch as th\n",
        "hook = sy.TorchHook(th)\n",
        "from torch import nn, optim"
      ],
      "execution_count": 25,
      "outputs": [
        {
          "output_type": "stream",
          "text": [
            "WARNING: Logging before flag parsing goes to stderr.\n",
            "W0801 04:20:46.321930 139954717230976 secure_random.py:26] Falling back to insecure randomness since the required custom op could not be found for the installed version of TensorFlow. Fix this by compiling custom ops. Missing file was '/usr/local/lib/python3.6/dist-packages/tf_encrypted/operations/secure_random/secure_random_module_tf_1.14.0.so'\n",
            "W0801 04:20:46.338562 139954717230976 deprecation_wrapper.py:119] From /usr/local/lib/python3.6/dist-packages/tf_encrypted/session.py:26: The name tf.Session is deprecated. Please use tf.compat.v1.Session instead.\n",
            "\n"
          ],
          "name": "stderr"
        }
      ]
    },
    {
      "cell_type": "code",
      "metadata": {
        "id": "I-X3MCJpNPq4",
        "colab_type": "code",
        "colab": {}
      },
      "source": [
        "bob = sy.VirtualWorker(hook, id=\"bob\").add_worker(sy.local_worker)\n",
        "alice = sy.VirtualWorker(hook, id=\"alice\").add_worker(sy.local_worker)\n",
        "secure_worker = sy.VirtualWorker(hook, id=\"secure_worker\").add_worker(sy.local_worker)"
      ],
      "execution_count": 0,
      "outputs": []
    },
    {
      "cell_type": "code",
      "metadata": {
        "id": "4tDfZMlANPq6",
        "colab_type": "code",
        "colab": {}
      },
      "source": [
        "x = th.tensor([1,2,3,4])\n",
        "y = th.tensor([2,-1,1,0])"
      ],
      "execution_count": 0,
      "outputs": []
    },
    {
      "cell_type": "code",
      "metadata": {
        "id": "dqW6ZjW2NPq8",
        "colab_type": "code",
        "colab": {}
      },
      "source": [
        "x = x.share(bob, alice, crypto_provider=secure_worker)"
      ],
      "execution_count": 0,
      "outputs": []
    },
    {
      "cell_type": "code",
      "metadata": {
        "id": "Pphd6cX8NPq-",
        "colab_type": "code",
        "colab": {}
      },
      "source": [
        "y = y.share(bob, alice, crypto_provider=secure_worker)"
      ],
      "execution_count": 0,
      "outputs": []
    },
    {
      "cell_type": "code",
      "metadata": {
        "id": "c9h1BheUNPrC",
        "colab_type": "code",
        "outputId": "8048b006-7558-4bd2-8bbd-c44958cb6c6c",
        "colab": {
          "base_uri": "https://localhost:8080/",
          "height": 34
        }
      },
      "source": [
        "z = x + y\n",
        "z.get()"
      ],
      "execution_count": 30,
      "outputs": [
        {
          "output_type": "execute_result",
          "data": {
            "text/plain": [
              "tensor([3, 1, 4, 4])"
            ]
          },
          "metadata": {
            "tags": []
          },
          "execution_count": 30
        }
      ]
    },
    {
      "cell_type": "code",
      "metadata": {
        "id": "5zwfz6PiNPrG",
        "colab_type": "code",
        "outputId": "ed659f65-f5c1-48f8-a120-7dd32593d8a6",
        "colab": {
          "base_uri": "https://localhost:8080/",
          "height": 34
        }
      },
      "source": [
        "z = x - y\n",
        "z.get()"
      ],
      "execution_count": 31,
      "outputs": [
        {
          "output_type": "execute_result",
          "data": {
            "text/plain": [
              "tensor([-1,  3,  2,  4])"
            ]
          },
          "metadata": {
            "tags": []
          },
          "execution_count": 31
        }
      ]
    },
    {
      "cell_type": "code",
      "metadata": {
        "id": "e6tJht4qNPrK",
        "colab_type": "code",
        "outputId": "897b2fc5-a816-42a1-d3d7-9e024c6e006a",
        "colab": {
          "base_uri": "https://localhost:8080/",
          "height": 34
        }
      },
      "source": [
        "z = x * y\n",
        "z.get()"
      ],
      "execution_count": 32,
      "outputs": [
        {
          "output_type": "execute_result",
          "data": {
            "text/plain": [
              "tensor([ 2, -2,  3,  0])"
            ]
          },
          "metadata": {
            "tags": []
          },
          "execution_count": 32
        }
      ]
    },
    {
      "cell_type": "code",
      "metadata": {
        "id": "HrYGdHxXNPrN",
        "colab_type": "code",
        "outputId": "85415e7a-bc2b-4c51-938c-53e9ffee02b9",
        "colab": {
          "base_uri": "https://localhost:8080/",
          "height": 34
        }
      },
      "source": [
        "z = x > y\n",
        "z.get()"
      ],
      "execution_count": 33,
      "outputs": [
        {
          "output_type": "execute_result",
          "data": {
            "text/plain": [
              "tensor([0, 1, 1, 1])"
            ]
          },
          "metadata": {
            "tags": []
          },
          "execution_count": 33
        }
      ]
    },
    {
      "cell_type": "code",
      "metadata": {
        "id": "d94an-6LNPrP",
        "colab_type": "code",
        "outputId": "b93bf560-6f17-4378-b50e-56772706834b",
        "colab": {
          "base_uri": "https://localhost:8080/",
          "height": 34
        }
      },
      "source": [
        "z = x < y\n",
        "z.get()"
      ],
      "execution_count": 34,
      "outputs": [
        {
          "output_type": "execute_result",
          "data": {
            "text/plain": [
              "tensor([1, 0, 0, 0])"
            ]
          },
          "metadata": {
            "tags": []
          },
          "execution_count": 34
        }
      ]
    },
    {
      "cell_type": "code",
      "metadata": {
        "id": "r0b8YS6tNPrR",
        "colab_type": "code",
        "outputId": "2726df97-5c06-470c-86a1-ba16ffc409dc",
        "colab": {
          "base_uri": "https://localhost:8080/",
          "height": 34
        }
      },
      "source": [
        "z = x == y\n",
        "z.get()"
      ],
      "execution_count": 35,
      "outputs": [
        {
          "output_type": "execute_result",
          "data": {
            "text/plain": [
              "tensor([0, 0, 0, 0])"
            ]
          },
          "metadata": {
            "tags": []
          },
          "execution_count": 35
        }
      ]
    },
    {
      "cell_type": "code",
      "metadata": {
        "id": "weQfVcWsNPrX",
        "colab_type": "code",
        "colab": {}
      },
      "source": [
        "x = th.tensor([1,2,3,4])\n",
        "y = th.tensor([2,-1,1,0])\n",
        "\n",
        "x = x.fix_precision().share(bob, alice, crypto_provider=secure_worker)\n",
        "y = y.fix_precision().share(bob, alice, crypto_provider=secure_worker)"
      ],
      "execution_count": 0,
      "outputs": []
    },
    {
      "cell_type": "code",
      "metadata": {
        "id": "5TVtEIe6NPrZ",
        "colab_type": "code",
        "outputId": "ac1aaa6e-fb1c-4215-805f-767cd4968e04",
        "colab": {
          "base_uri": "https://localhost:8080/",
          "height": 34
        }
      },
      "source": [
        "z = x + y\n",
        "z.get().float_precision()"
      ],
      "execution_count": 37,
      "outputs": [
        {
          "output_type": "execute_result",
          "data": {
            "text/plain": [
              "tensor([3., 1., 4., 4.])"
            ]
          },
          "metadata": {
            "tags": []
          },
          "execution_count": 37
        }
      ]
    },
    {
      "cell_type": "code",
      "metadata": {
        "id": "l_3KpqRxNPrc",
        "colab_type": "code",
        "outputId": "21dfe7f1-d4f8-40e9-ac85-97501da35290",
        "colab": {
          "base_uri": "https://localhost:8080/",
          "height": 34
        }
      },
      "source": [
        "z = x - y\n",
        "z.get().float_precision()"
      ],
      "execution_count": 38,
      "outputs": [
        {
          "output_type": "execute_result",
          "data": {
            "text/plain": [
              "tensor([-1.,  3.,  2.,  4.])"
            ]
          },
          "metadata": {
            "tags": []
          },
          "execution_count": 38
        }
      ]
    },
    {
      "cell_type": "code",
      "metadata": {
        "id": "2G0tq3_4NPrf",
        "colab_type": "code",
        "outputId": "c8a3eca8-05ca-4ad2-ef28-da590832a795",
        "colab": {
          "base_uri": "https://localhost:8080/",
          "height": 34
        }
      },
      "source": [
        "z = x * y\n",
        "z.get().float_precision()"
      ],
      "execution_count": 39,
      "outputs": [
        {
          "output_type": "execute_result",
          "data": {
            "text/plain": [
              "tensor([ 2., -2.,  3.,  0.])"
            ]
          },
          "metadata": {
            "tags": []
          },
          "execution_count": 39
        }
      ]
    },
    {
      "cell_type": "code",
      "metadata": {
        "id": "mmoVmr1KNPrj",
        "colab_type": "code",
        "outputId": "a8ae9391-92e4-4dc5-e63e-88676739abe8",
        "colab": {
          "base_uri": "https://localhost:8080/",
          "height": 34
        }
      },
      "source": [
        "z = x > y\n",
        "z.get().float_precision()"
      ],
      "execution_count": 40,
      "outputs": [
        {
          "output_type": "execute_result",
          "data": {
            "text/plain": [
              "tensor([0., 1., 1., 1.])"
            ]
          },
          "metadata": {
            "tags": []
          },
          "execution_count": 40
        }
      ]
    },
    {
      "cell_type": "code",
      "metadata": {
        "id": "bj9g_fBiNPrl",
        "colab_type": "code",
        "outputId": "94e17048-3ea4-4e7f-9301-2757075634df",
        "colab": {
          "base_uri": "https://localhost:8080/",
          "height": 34
        }
      },
      "source": [
        "z = x < y\n",
        "z.get().float_precision()"
      ],
      "execution_count": 41,
      "outputs": [
        {
          "output_type": "execute_result",
          "data": {
            "text/plain": [
              "tensor([1., 0., 0., 0.])"
            ]
          },
          "metadata": {
            "tags": []
          },
          "execution_count": 41
        }
      ]
    },
    {
      "cell_type": "code",
      "metadata": {
        "id": "8rQlbb9NNPrn",
        "colab_type": "code",
        "outputId": "86c78ddc-0704-424c-8558-27d4c3b8ae01",
        "colab": {
          "base_uri": "https://localhost:8080/",
          "height": 34
        }
      },
      "source": [
        "z = x == y\n",
        "z.get().float_precision()"
      ],
      "execution_count": 42,
      "outputs": [
        {
          "output_type": "execute_result",
          "data": {
            "text/plain": [
              "tensor([0., 0., 0., 0.])"
            ]
          },
          "metadata": {
            "tags": []
          },
          "execution_count": 42
        }
      ]
    },
    {
      "cell_type": "markdown",
      "metadata": {
        "id": "yh9bFS0NNPrp",
        "colab_type": "text"
      },
      "source": [
        "# Project: Build an Encrypted Database"
      ]
    },
    {
      "cell_type": "code",
      "metadata": {
        "id": "lVMt6ORMNPrq",
        "colab_type": "code",
        "colab": {}
      },
      "source": [
        "import string"
      ],
      "execution_count": 0,
      "outputs": []
    },
    {
      "cell_type": "code",
      "metadata": {
        "id": "pbjC1MSANPrv",
        "colab_type": "code",
        "colab": {}
      },
      "source": [
        "char2index = {}\n",
        "index2char = {}"
      ],
      "execution_count": 0,
      "outputs": []
    },
    {
      "cell_type": "code",
      "metadata": {
        "id": "JIVuwAgDNPrz",
        "colab_type": "code",
        "colab": {}
      },
      "source": [
        "for i,char in enumerate(' ' + string.ascii_lowercase + '0123456789' + string.punctuation):\n",
        "    char2index[char] = i\n",
        "    index2char[i] = char"
      ],
      "execution_count": 0,
      "outputs": []
    },
    {
      "cell_type": "code",
      "metadata": {
        "id": "J-2tILMYNPr1",
        "colab_type": "code",
        "colab": {}
      },
      "source": [
        "    str_input = \"Hello\"\n",
        "    max_len = 8"
      ],
      "execution_count": 0,
      "outputs": []
    },
    {
      "cell_type": "code",
      "metadata": {
        "id": "Yef6iui-NPr3",
        "colab_type": "code",
        "colab": {}
      },
      "source": [
        "def string2values(str_input, max_len=8):\n",
        "\n",
        "    str_input = str_input[:max_len].lower()\n",
        "\n",
        "    # pad strings shorter than max len\n",
        "    if(len(str_input) < max_len):\n",
        "        str_input = str_input + \".\" * (max_len - len(str_input))\n",
        "\n",
        "    values = list()\n",
        "    for char in str_input:\n",
        "        values.append(char2index[char])\n",
        "\n",
        "    return th.tensor(values).long()\n",
        "\n",
        "def values2string(input_values):\n",
        "    s = \"\"\n",
        "    for value in input_values:\n",
        "        s += index2char[int(value)]\n",
        "    return s\n",
        "\n",
        "def strings_equal(str_a, str_b):\n",
        "\n",
        "    vect = (str_a * str_b).sum(1)\n",
        "\n",
        "    x = vect[0]\n",
        "\n",
        "    for i in range(vect.shape[0] - 1):\n",
        "        x = x * vect[i + 1]    \n",
        "\n",
        "    return x\n",
        "\n",
        "def one_hot(index, length):\n",
        "    vect = th.zeros(length).long()\n",
        "    vect[index] = 1\n",
        "    return vect\n",
        "\n",
        "def string2one_hot_matrix(str_input, max_len=8):\n",
        "\n",
        "    str_input = str_input[:max_len].lower()\n",
        "\n",
        "    # pad strings shorter than max len\n",
        "    if(len(str_input) < max_len):\n",
        "        str_input = str_input + \".\" * (max_len - len(str_input))\n",
        "\n",
        "    char_vectors = list()\n",
        "    for char in str_input:\n",
        "        char_v = one_hot(char2index[char], len(char2index)).unsqueeze(0)\n",
        "        char_vectors.append(char_v)\n",
        "        \n",
        "    return th.cat(char_vectors, dim=0)"
      ],
      "execution_count": 0,
      "outputs": []
    },
    {
      "cell_type": "code",
      "metadata": {
        "id": "56js15scNPr_",
        "colab_type": "code",
        "colab": {}
      },
      "source": [
        "class EncryptedDB():\n",
        "    \n",
        "    def __init__(self, *owners, max_key_len=8, max_val_len=8):\n",
        "        self.max_key_len = max_key_len\n",
        "        self.max_val_len = max_val_len\n",
        "        \n",
        "        self.keys = list()\n",
        "        self.values = list()\n",
        "        self.owners = owners\n",
        "        \n",
        "    def add_entry(self, key, value):\n",
        "        key = string2one_hot_matrix(key)\n",
        "        key = key.share(*self.owners)\n",
        "        self.keys.append(key)\n",
        "        \n",
        "        value = string2values(value, max_len=self.max_val_len)\n",
        "        value = value.share(*self.owners)\n",
        "        self.values.append(value)\n",
        "        \n",
        "    def query(self, query_str):\n",
        "        query_matrix = string2one_hot_matrix(query_str)\n",
        "        \n",
        "        query_matrix = query_matrix.share(*self.owners)\n",
        "\n",
        "        key_matches = list()\n",
        "        for key in self.keys:\n",
        "\n",
        "            key_match = strings_equal(key, query_matrix)\n",
        "            key_matches.append(key_match)\n",
        "\n",
        "        result = self.values[0] * key_matches[0]\n",
        "\n",
        "        for i in range(len(self.values) - 1):\n",
        "            result += self.values[i+1] * key_matches[i+1]\n",
        "            \n",
        "        result = result.get()\n",
        "\n",
        "        return values2string(result).replace(\".\",\"\")\n",
        "    \n",
        "    "
      ],
      "execution_count": 0,
      "outputs": []
    },
    {
      "cell_type": "code",
      "metadata": {
        "id": "U80uZl4fNPsA",
        "colab_type": "code",
        "outputId": "ed38ff71-d3b0-48f6-f4fc-34e9ec0346c8",
        "colab": {
          "base_uri": "https://localhost:8080/",
          "height": 34
        }
      },
      "source": [
        "db = EncryptedDB(bob, alice, secure_worker, max_val_len=256)\n",
        "\n",
        "db.add_entry(\"Bob\",\"(123) 456 7890\")\n",
        "db.add_entry(\"Bill\", \"(234) 567 8901\")\n",
        "db.add_entry(\"Sam\",\"(345) 678 9012\")\n",
        "db.add_entry(\"Key\",\"really big json value\")\n",
        "\n",
        "db.query(\"Bob\")"
      ],
      "execution_count": 49,
      "outputs": [
        {
          "output_type": "execute_result",
          "data": {
            "text/plain": [
              "'(123) 456 7890'"
            ]
          },
          "metadata": {
            "tags": []
          },
          "execution_count": 49
        }
      ]
    },
    {
      "cell_type": "markdown",
      "metadata": {
        "id": "8NDu_VlQNPsE",
        "colab_type": "text"
      },
      "source": [
        "# Lesson: Encrypted Deep Learning in PyTorch"
      ]
    },
    {
      "cell_type": "markdown",
      "metadata": {
        "id": "Rkf-6NjJNPsE",
        "colab_type": "text"
      },
      "source": [
        "### Train a Model"
      ]
    },
    {
      "cell_type": "code",
      "metadata": {
        "id": "yPQ4QTf0NPsF",
        "colab_type": "code",
        "outputId": "ebd2bf45-7d8f-4657-dbc4-67aed60c27ec",
        "colab": {
          "base_uri": "https://localhost:8080/",
          "height": 369
        }
      },
      "source": [
        "from torch import nn\n",
        "from torch import optim\n",
        "import torch.nn.functional as F\n",
        "\n",
        "# A Toy Dataset\n",
        "data = th.tensor([[0,0],[0,1],[1,0],[1,1.]], requires_grad=True)\n",
        "target = th.tensor([[0],[0],[1],[1.]], requires_grad=True)\n",
        "\n",
        "class Net(nn.Module):\n",
        "    def __init__(self):\n",
        "        super(Net, self).__init__()\n",
        "        self.fc1 = nn.Linear(2, 20)\n",
        "        self.fc2 = nn.Linear(20, 1)\n",
        "\n",
        "    def forward(self, x):\n",
        "        x = self.fc1(x)\n",
        "        x = F.relu(x)\n",
        "        x = self.fc2(x)\n",
        "        return x\n",
        "\n",
        "# A Toy Model\n",
        "model = Net()\n",
        "\n",
        "def train():\n",
        "    # Training Logic\n",
        "    opt = optim.SGD(params=model.parameters(),lr=0.1)\n",
        "    for iter in range(20):\n",
        "\n",
        "        # 1) erase previous gradients (if they exist)\n",
        "        opt.zero_grad()\n",
        "\n",
        "        # 2) make a prediction\n",
        "        pred = model(data)\n",
        "\n",
        "        # 3) calculate how much we missed\n",
        "        loss = ((pred - target)**2).sum()\n",
        "\n",
        "        # 4) figure out which weights caused us to miss\n",
        "        loss.backward()\n",
        "\n",
        "        # 5) change those weights\n",
        "        opt.step()\n",
        "\n",
        "        # 6) print our progress\n",
        "        print(loss.data)\n",
        "        \n",
        "train()"
      ],
      "execution_count": 50,
      "outputs": [
        {
          "output_type": "stream",
          "text": [
            "tensor(1.7736)\n",
            "tensor(7.1693)\n",
            "tensor(15.1372)\n",
            "tensor(1.6517)\n",
            "tensor(0.8541)\n",
            "tensor(0.7865)\n",
            "tensor(0.7361)\n",
            "tensor(0.6874)\n",
            "tensor(0.6390)\n",
            "tensor(0.5910)\n",
            "tensor(0.5395)\n",
            "tensor(0.4854)\n",
            "tensor(0.4388)\n",
            "tensor(0.3224)\n",
            "tensor(0.2354)\n",
            "tensor(0.1688)\n",
            "tensor(0.1131)\n",
            "tensor(0.0792)\n",
            "tensor(0.0569)\n",
            "tensor(0.0433)\n"
          ],
          "name": "stdout"
        }
      ]
    },
    {
      "cell_type": "code",
      "metadata": {
        "id": "8MdCppfuNPsH",
        "colab_type": "code",
        "outputId": "e7e3addb-601a-41e2-a619-7dac6824a386",
        "colab": {
          "base_uri": "https://localhost:8080/",
          "height": 87
        }
      },
      "source": [
        "model(data)"
      ],
      "execution_count": 51,
      "outputs": [
        {
          "output_type": "execute_result",
          "data": {
            "text/plain": [
              "tensor([[0.0072],\n",
              "        [0.0439],\n",
              "        [1.0941],\n",
              "        [0.8489]], grad_fn=<AddmmBackward>)"
            ]
          },
          "metadata": {
            "tags": []
          },
          "execution_count": 51
        }
      ]
    },
    {
      "cell_type": "markdown",
      "metadata": {
        "id": "I46F7q9dNPsK",
        "colab_type": "text"
      },
      "source": [
        "## Encrypt the Model and Data"
      ]
    },
    {
      "cell_type": "code",
      "metadata": {
        "id": "T84td7UUNPsL",
        "colab_type": "code",
        "colab": {}
      },
      "source": [
        "encrypted_model = model.fix_precision().share(alice, bob, crypto_provider=secure_worker)"
      ],
      "execution_count": 0,
      "outputs": []
    },
    {
      "cell_type": "code",
      "metadata": {
        "id": "dqruoVXANPsN",
        "colab_type": "code",
        "outputId": "82a9082e-e36a-4fbc-fdd7-a16659cf3ff6",
        "colab": {
          "base_uri": "https://localhost:8080/",
          "height": 316
        }
      },
      "source": [
        "list(encrypted_model.parameters())"
      ],
      "execution_count": 53,
      "outputs": [
        {
          "output_type": "execute_result",
          "data": {
            "text/plain": [
              "[Parameter containing:\n",
              " Parameter>FixedPrecisionTensor>(Wrapper)>[AdditiveSharingTensor]\n",
              " \t-> (Wrapper)>[PointerTensor | me:83334567801 -> alice:63757478762]\n",
              " \t-> (Wrapper)>[PointerTensor | me:93006604172 -> bob:87809162686]\n",
              " \t*crypto provider: secure_worker*, Parameter containing:\n",
              " Parameter>FixedPrecisionTensor>(Wrapper)>[AdditiveSharingTensor]\n",
              " \t-> (Wrapper)>[PointerTensor | me:24462790883 -> alice:43029051588]\n",
              " \t-> (Wrapper)>[PointerTensor | me:95073756643 -> bob:19384830032]\n",
              " \t*crypto provider: secure_worker*, Parameter containing:\n",
              " Parameter>FixedPrecisionTensor>(Wrapper)>[AdditiveSharingTensor]\n",
              " \t-> (Wrapper)>[PointerTensor | me:1524309905 -> alice:90186267136]\n",
              " \t-> (Wrapper)>[PointerTensor | me:38290086557 -> bob:26727106735]\n",
              " \t*crypto provider: secure_worker*, Parameter containing:\n",
              " Parameter>FixedPrecisionTensor>(Wrapper)>[AdditiveSharingTensor]\n",
              " \t-> (Wrapper)>[PointerTensor | me:48431638980 -> alice:95478821504]\n",
              " \t-> (Wrapper)>[PointerTensor | me:99308212213 -> bob:54491424907]\n",
              " \t*crypto provider: secure_worker*]"
            ]
          },
          "metadata": {
            "tags": []
          },
          "execution_count": 53
        }
      ]
    },
    {
      "cell_type": "code",
      "metadata": {
        "id": "LzTI5MpjNPsO",
        "colab_type": "code",
        "colab": {}
      },
      "source": [
        "encrypted_data = data.fix_precision().share(alice, bob, crypto_provider=secure_worker)"
      ],
      "execution_count": 0,
      "outputs": []
    },
    {
      "cell_type": "code",
      "metadata": {
        "id": "oCqDv1KuNPsQ",
        "colab_type": "code",
        "outputId": "08ccfeb2-fa80-46c7-86ea-4fd3549310d0",
        "colab": {
          "base_uri": "https://localhost:8080/",
          "height": 87
        }
      },
      "source": [
        "encrypted_data"
      ],
      "execution_count": 55,
      "outputs": [
        {
          "output_type": "execute_result",
          "data": {
            "text/plain": [
              "(Wrapper)>FixedPrecisionTensor>(Wrapper)>[AdditiveSharingTensor]\n",
              "\t-> (Wrapper)>[PointerTensor | me:49377360140 -> alice:65118969467]\n",
              "\t-> (Wrapper)>[PointerTensor | me:25080856645 -> bob:14764559308]\n",
              "\t*crypto provider: secure_worker*"
            ]
          },
          "metadata": {
            "tags": []
          },
          "execution_count": 55
        }
      ]
    },
    {
      "cell_type": "code",
      "metadata": {
        "id": "Nh-YYfQLNPsS",
        "colab_type": "code",
        "colab": {}
      },
      "source": [
        "encrypted_prediction = encrypted_model(encrypted_data)"
      ],
      "execution_count": 0,
      "outputs": []
    },
    {
      "cell_type": "code",
      "metadata": {
        "id": "DhZJPEQrNPsU",
        "colab_type": "code",
        "outputId": "63d9f1a0-7262-4689-cd98-3b53de708249",
        "colab": {
          "base_uri": "https://localhost:8080/",
          "height": 87
        }
      },
      "source": [
        "encrypted_prediction.get().float_precision()"
      ],
      "execution_count": 57,
      "outputs": [
        {
          "output_type": "execute_result",
          "data": {
            "text/plain": [
              "tensor([[0.0080],\n",
              "        [0.0440],\n",
              "        [1.0920],\n",
              "        [0.8470]])"
            ]
          },
          "metadata": {
            "tags": []
          },
          "execution_count": 57
        }
      ]
    },
    {
      "cell_type": "markdown",
      "metadata": {
        "id": "JygkUUliNPsW",
        "colab_type": "text"
      },
      "source": [
        "# Lesson: Encrypted Deep Learning in Keras\n"
      ]
    },
    {
      "cell_type": "markdown",
      "metadata": {
        "id": "d_msjUqXNPsW",
        "colab_type": "text"
      },
      "source": [
        "## Step 1: Public Training\n",
        "\n",
        "Welcome to this tutorial! In the following notebooks you will learn how to provide private predictions. By private predictions, we mean that the data is constantly encrypted throughout the entire process. At no point is the user sharing raw data, only encrypted (that is, secret shared) data. In order to provide these private predictions, Syft Keras uses a library called [TF Encrypted](https://github.com/tf-encrypted/tf-encrypted) under the hood. TF Encrypted combines cutting-edge cryptographic and machine learning techniques, but you don't have to worry about this and can focus on your machine learning application.\n",
        "\n",
        "You can start serving private predictions with only three steps:\n",
        "- **Step 1**: train your model with normal Keras.\n",
        "- **Step 2**: secure and serve your machine learning model (server).\n",
        "- **Step 3**: query the secured model to receive private predictions (client). \n",
        "\n",
        "Alright, let's go through these three steps so you can deploy impactful machine learning services without sacrificing user privacy or model security.\n",
        "\n",
        "Huge shoutout to the Dropout Labs ([@dropoutlabs](https://twitter.com/dropoutlabs)) and TF Encrypted ([@tf_encrypted](https://twitter.com/tf_encrypted)) teams for their great work which makes this demo possible, especially: Jason Mancuso ([@jvmancuso](https://twitter.com/jvmancuso)), Yann Dupis ([@YannDupis](https://twitter.com/YannDupis)), and Morten Dahl ([@mortendahlcs](https://github.com/mortendahlcs)). \n",
        "\n",
        "_Demo Ref: https://github.com/OpenMined/PySyft/tree/dev/examples/tutorials_"
      ]
    },
    {
      "cell_type": "markdown",
      "metadata": {
        "id": "Su_m5qX5NPsX",
        "colab_type": "text"
      },
      "source": [
        "## Train Your Model in Keras\n",
        "\n",
        "To use privacy-preserving machine learning techniques for your projects you should not have to learn a new machine learning framework. If you have basic [Keras](https://keras.io/) knowledge, you can start using these techniques with Syft Keras. If you have never used Keras before, you can learn a bit more about it through the [Keras documentation](https://keras.io). \n",
        "\n",
        "Before serving private predictions, the first step is to train your model with normal Keras. As an example, we will train a model to classify handwritten digits. To train this model we will use the canonical [MNIST dataset](http://yann.lecun.com/exdb/mnist/).\n",
        "\n",
        "We borrow [this example](https://github.com/keras-team/keras/blob/master/examples/mnist_cnn.py) from the reference Keras repository.  To train your classification model, you just run the cell below."
      ]
    },
    {
      "cell_type": "code",
      "metadata": {
        "id": "BOavFqvINPsX",
        "colab_type": "code",
        "outputId": "27fde5a1-64a6-42d4-9811-dd38e412d212",
        "colab": {}
      },
      "source": [
        "from __future__ import print_function\n",
        "import tensorflow.keras as keras\n",
        "from tensorflow.keras.datasets import mnist\n",
        "from tensorflow.keras.models import Sequential\n",
        "from tensorflow.keras.layers import Dense, Dropout, Flatten\n",
        "from tensorflow.keras.layers import Conv2D, AveragePooling2D\n",
        "from tensorflow.keras.layers import Activation\n",
        "\n",
        "batch_size = 128\n",
        "num_classes = 10\n",
        "epochs = 2\n",
        "\n",
        "# input image dimensions\n",
        "img_rows, img_cols = 28, 28\n",
        "\n",
        "# the data, split between train and test sets\n",
        "(x_train, y_train), (x_test, y_test) = mnist.load_data()\n",
        "\n",
        "x_train = x_train.reshape(x_train.shape[0], img_rows, img_cols, 1)\n",
        "x_test = x_test.reshape(x_test.shape[0], img_rows, img_cols, 1)\n",
        "input_shape = (img_rows, img_cols, 1)\n",
        "\n",
        "x_train = x_train.astype('float32')\n",
        "x_test = x_test.astype('float32')\n",
        "x_train /= 255\n",
        "x_test /= 255\n",
        "print('x_train shape:', x_train.shape)\n",
        "print(x_train.shape[0], 'train samples')\n",
        "print(x_test.shape[0], 'test samples')\n",
        "\n",
        "# convert class vectors to binary class matrices\n",
        "y_train = keras.utils.to_categorical(y_train, num_classes)\n",
        "y_test = keras.utils.to_categorical(y_test, num_classes)\n",
        "\n",
        "model = Sequential()\n",
        "\n",
        "model.add(Conv2D(10, (3, 3), input_shape=input_shape))\n",
        "model.add(AveragePooling2D((2, 2)))\n",
        "model.add(Activation('relu'))\n",
        "model.add(Conv2D(32, (3, 3)))\n",
        "model.add(AveragePooling2D((2, 2)))\n",
        "model.add(Activation('relu'))\n",
        "model.add(Conv2D(64, (3, 3)))\n",
        "model.add(AveragePooling2D((2, 2)))\n",
        "model.add(Activation('relu'))\n",
        "model.add(Flatten())\n",
        "model.add(Dense(num_classes, activation='softmax'))\n",
        "\n",
        "model.compile(loss=keras.losses.categorical_crossentropy,\n",
        "              optimizer=keras.optimizers.Adadelta(),\n",
        "              metrics=['accuracy'])\n",
        "\n",
        "model.fit(x_train, y_train,\n",
        "          batch_size=batch_size,\n",
        "          epochs=epochs,\n",
        "          verbose=1,\n",
        "          validation_data=(x_test, y_test))\n",
        "score = model.evaluate(x_test, y_test, verbose=0)\n",
        "print('Test loss:', score[0])\n",
        "print('Test accuracy:', score[1])"
      ],
      "execution_count": 0,
      "outputs": [
        {
          "output_type": "stream",
          "text": [
            "x_train shape: (60000, 28, 28, 1)\n",
            "60000 train samples\n",
            "10000 test samples\n",
            "WARNING:tensorflow:From /Users/atrask/anaconda/lib/python3.6/site-packages/tensorflow/python/ops/resource_variable_ops.py:435: colocate_with (from tensorflow.python.framework.ops) is deprecated and will be removed in a future version.\n",
            "Instructions for updating:\n",
            "Colocations handled automatically by placer.\n"
          ],
          "name": "stdout"
        },
        {
          "output_type": "stream",
          "text": [
            "WARNING:tensorflow:From /Users/atrask/anaconda/lib/python3.6/site-packages/tensorflow/python/ops/resource_variable_ops.py:435: colocate_with (from tensorflow.python.framework.ops) is deprecated and will be removed in a future version.\n",
            "Instructions for updating:\n",
            "Colocations handled automatically by placer.\n"
          ],
          "name": "stderr"
        },
        {
          "output_type": "stream",
          "text": [
            "Train on 60000 samples, validate on 10000 samples\n",
            "WARNING:tensorflow:From /Users/atrask/anaconda/lib/python3.6/site-packages/tensorflow/python/ops/math_ops.py:3066: to_int32 (from tensorflow.python.ops.math_ops) is deprecated and will be removed in a future version.\n",
            "Instructions for updating:\n",
            "Use tf.cast instead.\n"
          ],
          "name": "stdout"
        },
        {
          "output_type": "stream",
          "text": [
            "WARNING:tensorflow:From /Users/atrask/anaconda/lib/python3.6/site-packages/tensorflow/python/ops/math_ops.py:3066: to_int32 (from tensorflow.python.ops.math_ops) is deprecated and will be removed in a future version.\n",
            "Instructions for updating:\n",
            "Use tf.cast instead.\n"
          ],
          "name": "stderr"
        },
        {
          "output_type": "stream",
          "text": [
            "Epoch 1/2\n",
            "60000/60000 [==============================] - 7s 119us/sample - loss: 0.6739 - acc: 0.7855 - val_loss: 0.2742 - val_acc: 0.9135\n",
            "Epoch 2/2\n",
            "60000/60000 [==============================] - 7s 122us/sample - loss: 0.2181 - acc: 0.9341 - val_loss: 0.1549 - val_acc: 0.9517\n",
            "Test loss: 0.1548735132828355\n",
            "Test accuracy: 0.9517\n"
          ],
          "name": "stdout"
        }
      ]
    },
    {
      "cell_type": "code",
      "metadata": {
        "id": "E4EcXiFENPsZ",
        "colab_type": "code",
        "colab": {}
      },
      "source": [
        "## Save your model's weights for future private prediction\n",
        "model.save('short-conv-mnist.h5')"
      ],
      "execution_count": 0,
      "outputs": []
    },
    {
      "cell_type": "markdown",
      "metadata": {
        "id": "zuvv0sTONPsb",
        "colab_type": "text"
      },
      "source": [
        "## Step 2: Load and Serve the Model"
      ]
    },
    {
      "cell_type": "markdown",
      "metadata": {
        "id": "MDO9_yaoNPsb",
        "colab_type": "text"
      },
      "source": [
        "Now that you have a trained model with normal Keras, you are ready to serve some private predictions. We can do that using Syft Keras.\n",
        "\n",
        "To secure and serve this model, we will need three TFEWorkers (servers). This is because TF Encrypted under the hood uses an encryption technique called [multi-party computation (MPC)](https://en.wikipedia.org/wiki/Secure_multi-party_computation). The idea is to split the model weights and input data into shares, then send a share of each value to the different servers. The key property is that if you look at the share on one server, it reveals nothing about the original value (input data or model weights).\n",
        "\n",
        "We'll define a Syft Keras model like we did in the previous notebook. However, there is a trick: before instantiating this model, we'll run `hook = sy.KerasHook(tf.keras)`. This will add three important new methods to the Keras Sequential class:\n",
        " - `share`: will secure your model via secret sharing; by default, it will use the SecureNN protocol from TF Encrypted to secret share your model between each of the three TFEWorkers. Most importantly, this will add the capability of providing predictions on encrypted data.\n",
        " - `serve`: this function will launch a serving queue, so that the TFEWorkers can can accept prediction requests on the secured model from external clients.\n",
        " - `shutdown_workers`: once you are done providing private predictions, you can shut down your model by running this function. It will direct you to shutdown the server processes manually if you've opted to manually manage each worker.\n",
        "\n",
        "If you want learn more about MPC, you can read this excellent [blog](https://mortendahl.github.io/2017/04/17/private-deep-learning-with-mpc/)."
      ]
    },
    {
      "cell_type": "code",
      "metadata": {
        "id": "A6LofFWwNPsc",
        "colab_type": "code",
        "colab": {}
      },
      "source": [
        "import numpy as np\n",
        "import tensorflow as tf\n",
        "from tensorflow.keras import Sequential\n",
        "from tensorflow.keras.layers import AveragePooling2D, Conv2D, Dense, Activation, Flatten, ReLU, Activation\n",
        "\n",
        "import syft as sy\n",
        "hook = sy.KerasHook(tf.keras)"
      ],
      "execution_count": 0,
      "outputs": []
    },
    {
      "cell_type": "markdown",
      "metadata": {
        "id": "l6fI3nLKNPsd",
        "colab_type": "text"
      },
      "source": [
        "## Model\n",
        "\n",
        "As you can see, we define almost the exact same model as before, except we provide a `batch_input_shape`. This allows TF Encrypted to better optimize the secure computations via predefined tensor shapes. For this MNIST demo, we'll send input data with the shape of (1, 28, 28, 1). \n",
        "We also return the logit instead of softmax because this operation is complex to perform using MPC, and we don't need it to serve prediction requests."
      ]
    },
    {
      "cell_type": "code",
      "metadata": {
        "id": "Il5yKqepNPse",
        "colab_type": "code",
        "colab": {}
      },
      "source": [
        "num_classes = 10\n",
        "input_shape = (1, 28, 28, 1)\n",
        "\n",
        "model = Sequential()\n",
        "\n",
        "model.add(Conv2D(10, (3, 3), batch_input_shape=input_shape))\n",
        "model.add(AveragePooling2D((2, 2)))\n",
        "model.add(Activation('relu'))\n",
        "model.add(Conv2D(32, (3, 3)))\n",
        "model.add(AveragePooling2D((2, 2)))\n",
        "model.add(Activation('relu'))\n",
        "model.add(Conv2D(64, (3, 3)))\n",
        "model.add(AveragePooling2D((2, 2)))\n",
        "model.add(Activation('relu'))\n",
        "model.add(Flatten())\n",
        "model.add(Dense(num_classes, name=\"logit\"))"
      ],
      "execution_count": 0,
      "outputs": []
    },
    {
      "cell_type": "markdown",
      "metadata": {
        "id": "hIq9AMhvNPsh",
        "colab_type": "text"
      },
      "source": [
        "### Load Pre-trained Weights\n",
        "\n",
        "With `load_weights` you can easily load the weights you have saved previously after training your model."
      ]
    },
    {
      "cell_type": "code",
      "metadata": {
        "id": "xZT7IwJVNPsh",
        "colab_type": "code",
        "colab": {}
      },
      "source": [
        "pre_trained_weights = 'short-conv-mnist.h5'\n",
        "model.load_weights(pre_trained_weights)"
      ],
      "execution_count": 0,
      "outputs": []
    },
    {
      "cell_type": "markdown",
      "metadata": {
        "id": "aSIU3-wDNPsj",
        "colab_type": "text"
      },
      "source": [
        "## Step 3: Setup Your Worker Connectors\n",
        "\n",
        "Let's now connect to the TFEWorkers (`alice`, `bob`, and `carol`) required by TF Encrypted to perform private predictions. For each TFEWorker, you just have to specify a host.\n",
        "\n",
        "These workers run a [TensorFlow server](https://www.tensorflow.org/api_docs/python/tf/distribute/Server), which you can either manage manually (`AUTO = False`) or ask the workers to manage for you (`AUTO = True`). If choosing to manually manage them, you will be instructed to execute a terminal command on each worker's host device after calling `model.share()` below.  If all workers are hosted on a single device (e.g. `localhost`), you can choose to have Syft automatically manage the worker's TensorFlow server."
      ]
    },
    {
      "cell_type": "code",
      "metadata": {
        "id": "cMJlOCfcNPsj",
        "colab_type": "code",
        "colab": {}
      },
      "source": [
        "AUTO = False\n",
        "\n",
        "alice = sy.TFEWorker(host='localhost:4000', auto_managed=AUTO)\n",
        "bob = sy.TFEWorker(host='localhost:4001', auto_managed=AUTO)\n",
        "carol = sy.TFEWorker(host='localhost:4002', auto_managed=AUTO)"
      ],
      "execution_count": 0,
      "outputs": []
    },
    {
      "cell_type": "markdown",
      "metadata": {
        "id": "ao7IHpq1NPsl",
        "colab_type": "text"
      },
      "source": [
        "## Step 4: Split the Model Into Shares\n",
        "\n",
        "Thanks to `sy.KerasHook(tf.keras)` you can call the `share` method to transform your model into a TF Encrypted Keras model.\n",
        "\n",
        "If you have asked to manually manage servers above then this step will not complete until they have all been launched. Note that your firewall may ask for Python to accept incoming connection."
      ]
    },
    {
      "cell_type": "code",
      "metadata": {
        "id": "Z6mmqr4XNPsl",
        "colab_type": "code",
        "outputId": "69786787-c9fc-4757-e50e-ff734a040965",
        "colab": {}
      },
      "source": [
        "model.share(alice, bob, carol)"
      ],
      "execution_count": 0,
      "outputs": [
        {
          "output_type": "stream",
          "text": [
            "INFO:tf_encrypted:If not done already, please launch the following command in a terminal on host 'localhost:4000':\n",
            "'python -m tf_encrypted.player --config /tmp/tfe.config server0'\n",
            "This can be done automatically in a local subprocess by setting `auto_managed=True` when instantiating a TFEWorker.\n",
            "INFO:tf_encrypted:If not done already, please launch the following command in a terminal on host 'localhost:4001':\n",
            "'python -m tf_encrypted.player --config /tmp/tfe.config server1'\n",
            "This can be done automatically in a local subprocess by setting `auto_managed=True` when instantiating a TFEWorker.\n",
            "INFO:tf_encrypted:If not done already, please launch the following command in a terminal on host 'localhost:4002':\n",
            "'python -m tf_encrypted.player --config /tmp/tfe.config server2'\n",
            "This can be done automatically in a local subprocess by setting `auto_managed=True` when instantiating a TFEWorker.\n",
            "INFO:tf_encrypted:Starting session on target 'grpc://localhost:4000' using config graph_options {\n",
            "}\n",
            "\n"
          ],
          "name": "stderr"
        }
      ]
    },
    {
      "cell_type": "markdown",
      "metadata": {
        "id": "8xuwDoWnNPsn",
        "colab_type": "text"
      },
      "source": [
        "## Step 5: Launch 3 Servers\n",
        "\n",
        "```\n",
        "python -m tf_encrypted.player --config /tmp/tfe.config server0\n",
        "python -m tf_encrypted.player --config /tmp/tfe.config server1\n",
        "python -m tf_encrypted.player --config /tmp/tfe.config server2```"
      ]
    },
    {
      "cell_type": "markdown",
      "metadata": {
        "id": "644DOkonNPso",
        "colab_type": "text"
      },
      "source": [
        "## Step 6: Serve the Model\n",
        "\n",
        "Perfect! Now by calling `model.serve`, your model is ready to provide some private predictions. You can set `num_requests` to set a limit on the number of predictions requests served by the model; if not specified then the model will be served until interrupted."
      ]
    },
    {
      "cell_type": "code",
      "metadata": {
        "id": "uhnCWoj8NPsp",
        "colab_type": "code",
        "outputId": "c26741a4-85ed-4f94-e73d-fb0e02ba089a",
        "colab": {}
      },
      "source": [
        "model.serve(num_requests=3)"
      ],
      "execution_count": 0,
      "outputs": [
        {
          "output_type": "stream",
          "text": [
            "Served encrypted prediction 1 to client.\n",
            "Served encrypted prediction 2 to client.\n",
            "Served encrypted prediction 3 to client.\n"
          ],
          "name": "stdout"
        }
      ]
    },
    {
      "cell_type": "markdown",
      "metadata": {
        "id": "Cg3c2QJUNPss",
        "colab_type": "text"
      },
      "source": [
        "## Step 7: Run the Client\n",
        "\n",
        "At this point open up and run the companion notebook: Section 4b - Encrytped Keras Client"
      ]
    },
    {
      "cell_type": "markdown",
      "metadata": {
        "id": "9I3DimSeNPsu",
        "colab_type": "text"
      },
      "source": [
        "## Step 8: Shutdown the Servers\n",
        "\n",
        "Once your request limit above, the model will no longer be available for serving requests, but it's still secret shared between the three workers above. You can kill the workers by executing the cell below.\n",
        "\n",
        "**Congratulations** on finishing Part 12: Secure Classification with Syft Keras and TFE!"
      ]
    },
    {
      "cell_type": "code",
      "metadata": {
        "id": "KA0oIebINPsu",
        "colab_type": "code",
        "colab": {}
      },
      "source": [
        "model.shutdown_workers()\n",
        "\n",
        "if not AUTO:\n",
        "    process_ids = !ps aux | grep '[p]ython -m tf_encrypted.player --config /tmp/tfe.config' | awk '{print $2}'\n",
        "    for process_id in process_ids:\n",
        "        !kill {process_id}\n",
        "        print(\"Process ID {id} has been killed.\".format(id=process_id))"
      ],
      "execution_count": 0,
      "outputs": []
    },
    {
      "cell_type": "code",
      "metadata": {
        "id": "h5h8YGijNPsw",
        "colab_type": "code",
        "colab": {}
      },
      "source": [
        ""
      ],
      "execution_count": 0,
      "outputs": []
    },
    {
      "cell_type": "markdown",
      "metadata": {
        "id": "mPOBx93KNPsy",
        "colab_type": "text"
      },
      "source": [
        "# Keystone Project - Mix and Match What You've Learned\n",
        "\n",
        "Description: Take two of the concepts you've learned about in this course (Encrypted Computation, Federated Learning, Differential Privacy) and combine them for a use case of your own design. Extra credit if you can get your demo working with [WebSocketWorkers](https://github.com/OpenMined/PySyft/tree/dev/examples/tutorials/advanced/websockets-example-MNIST) instead of VirtualWorkers! Then take your demo or example application, write a blogpost, and share that blogpost in #general-discussion on OpenMined's slack!!!\n",
        "\n",
        "Inspiration:\n",
        "- This Course's Code: https://github.com/Udacity/private-ai\n",
        "- OpenMined's Tutorials: https://github.com/OpenMined/PySyft/tree/dev/examples/tutorials\n",
        "- OpenMined's Blog: https://blog.openmined.org"
      ]
    },
    {
      "cell_type": "code",
      "metadata": {
        "id": "RNI2SUe2NPsz",
        "colab_type": "code",
        "colab": {}
      },
      "source": [
        ""
      ],
      "execution_count": 0,
      "outputs": []
    },
    {
      "cell_type": "code",
      "metadata": {
        "id": "HuDjqN69NPs1",
        "colab_type": "code",
        "colab": {}
      },
      "source": [
        ""
      ],
      "execution_count": 0,
      "outputs": []
    },
    {
      "cell_type": "code",
      "metadata": {
        "id": "JSHfIskuNPs2",
        "colab_type": "code",
        "colab": {}
      },
      "source": [
        ""
      ],
      "execution_count": 0,
      "outputs": []
    },
    {
      "cell_type": "code",
      "metadata": {
        "id": "5It1C1HwNPs3",
        "colab_type": "code",
        "colab": {}
      },
      "source": [
        ""
      ],
      "execution_count": 0,
      "outputs": []
    },
    {
      "cell_type": "code",
      "metadata": {
        "id": "1urv-8dSNPs4",
        "colab_type": "code",
        "colab": {}
      },
      "source": [
        ""
      ],
      "execution_count": 0,
      "outputs": []
    },
    {
      "cell_type": "code",
      "metadata": {
        "id": "E4cBAX-xNPs5",
        "colab_type": "code",
        "colab": {}
      },
      "source": [
        ""
      ],
      "execution_count": 0,
      "outputs": []
    },
    {
      "cell_type": "code",
      "metadata": {
        "id": "1zW9JCrrNPs-",
        "colab_type": "code",
        "colab": {}
      },
      "source": [
        ""
      ],
      "execution_count": 0,
      "outputs": []
    },
    {
      "cell_type": "code",
      "metadata": {
        "id": "2jajgsw-NPs_",
        "colab_type": "code",
        "colab": {}
      },
      "source": [
        ""
      ],
      "execution_count": 0,
      "outputs": []
    },
    {
      "cell_type": "code",
      "metadata": {
        "id": "Qbf-gauANPtB",
        "colab_type": "code",
        "colab": {}
      },
      "source": [
        ""
      ],
      "execution_count": 0,
      "outputs": []
    },
    {
      "cell_type": "code",
      "metadata": {
        "id": "DwQ5Mnd8NPtD",
        "colab_type": "code",
        "colab": {}
      },
      "source": [
        ""
      ],
      "execution_count": 0,
      "outputs": []
    },
    {
      "cell_type": "code",
      "metadata": {
        "id": "V2tGsaEiNPtF",
        "colab_type": "code",
        "colab": {}
      },
      "source": [
        ""
      ],
      "execution_count": 0,
      "outputs": []
    },
    {
      "cell_type": "code",
      "metadata": {
        "id": "9eJ6HEFVNPtH",
        "colab_type": "code",
        "colab": {}
      },
      "source": [
        ""
      ],
      "execution_count": 0,
      "outputs": []
    },
    {
      "cell_type": "code",
      "metadata": {
        "id": "XlOar0ZWNPtJ",
        "colab_type": "code",
        "colab": {}
      },
      "source": [
        ""
      ],
      "execution_count": 0,
      "outputs": []
    },
    {
      "cell_type": "code",
      "metadata": {
        "id": "ZTMZ4ptmNPtL",
        "colab_type": "code",
        "colab": {}
      },
      "source": [
        ""
      ],
      "execution_count": 0,
      "outputs": []
    },
    {
      "cell_type": "code",
      "metadata": {
        "id": "R0ev_jvcNPtM",
        "colab_type": "code",
        "colab": {}
      },
      "source": [
        ""
      ],
      "execution_count": 0,
      "outputs": []
    },
    {
      "cell_type": "code",
      "metadata": {
        "id": "Tilf5jLINPtP",
        "colab_type": "code",
        "colab": {}
      },
      "source": [
        ""
      ],
      "execution_count": 0,
      "outputs": []
    },
    {
      "cell_type": "code",
      "metadata": {
        "id": "DXZHQ7DGNPtS",
        "colab_type": "code",
        "colab": {}
      },
      "source": [
        ""
      ],
      "execution_count": 0,
      "outputs": []
    },
    {
      "cell_type": "code",
      "metadata": {
        "id": "InHfKmtYNPtU",
        "colab_type": "code",
        "colab": {}
      },
      "source": [
        ""
      ],
      "execution_count": 0,
      "outputs": []
    },
    {
      "cell_type": "code",
      "metadata": {
        "id": "DpGEPySKNPtV",
        "colab_type": "code",
        "colab": {}
      },
      "source": [
        ""
      ],
      "execution_count": 0,
      "outputs": []
    }
  ]
}